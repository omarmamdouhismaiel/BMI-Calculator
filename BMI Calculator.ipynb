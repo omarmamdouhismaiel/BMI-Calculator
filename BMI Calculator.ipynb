{
 "cells": [
  {
   "cell_type": "markdown",
   "id": "a789d770",
   "metadata": {},
   "source": [
    "# BMI Calculator\n",
    "\n",
    "Calculate a Body Mass Index (BMI), a measurement of body fat based on height _(in inches)_ and weight _(in pounds)_. Then, categorize this calculated BMI for the user.\n",
    "\n",
    "Formula: BMI = (weight * 703) / (height * height)"
   ]
  },
  {
   "cell_type": "code",
   "execution_count": 1,
   "id": "f39fbcb9",
   "metadata": {},
   "outputs": [
    {
     "name": "stdout",
     "output_type": "stream",
     "text": [
      "Enter your name: omar\n",
      "Enter your weight in pounds: 170\n",
      "Enter your height in inches: 69\n",
      "\n",
      "Omar, your BMI = 25.1\n",
      "Omar, you are overweight.\n"
     ]
    }
   ],
   "source": [
    "# Take user name\n",
    "name = input(\"Enter your name: \")\n",
    "\n",
    "# Capitalize his name\n",
    "name = name.title()\n",
    "\n",
    "# Take user weight\n",
    "weight = float(input(\"Enter your weight in pounds: \"))\n",
    "\n",
    "# Take user height\n",
    "height = float(input(\"Enter your height in inches: \"))\n",
    "\n",
    "# Calculate BMI\n",
    "BMI = (weight * 703) / (height * height)\n",
    "\n",
    "# Print user BMI, rounded to 2 decimal spaces\n",
    "print() # for eliminate inputs from results\n",
    "print(name + \", your BMI =\", round(BMI, 2))\n",
    "\n",
    "# Categorize user BMI\n",
    "if BMI > 0:\n",
    "    if BMI < 18.5:\n",
    "        print(name + \", you are underweight.\")\n",
    "    elif BMI < 25:\n",
    "        print(name + \", you are normal weight.\")\n",
    "    elif BMI < 30:\n",
    "        print(name + \", you are overweight.\")\n",
    "    elif BMI < 35:\n",
    "        print(name + \", you are obese.\")\n",
    "    elif BMI < 40:\n",
    "        print(name + \", you are severely obese.\")\n",
    "    else:\n",
    "        print(name + \", you are over morbidley obese.\")\n",
    "else:\n",
    "    print(\"Enter valid input.\")"
   ]
  },
  {
   "cell_type": "markdown",
   "id": "83517c97",
   "metadata": {},
   "source": [
    "## End!"
   ]
  }
 ],
 "metadata": {
  "kernelspec": {
   "display_name": "Python 3 (ipykernel)",
   "language": "python",
   "name": "python3"
  },
  "language_info": {
   "codemirror_mode": {
    "name": "ipython",
    "version": 3
   },
   "file_extension": ".py",
   "mimetype": "text/x-python",
   "name": "python",
   "nbconvert_exporter": "python",
   "pygments_lexer": "ipython3",
   "version": "3.9.7"
  }
 },
 "nbformat": 4,
 "nbformat_minor": 5
}
